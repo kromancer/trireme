{
 "cells": [
  {
   "cell_type": "code",
   "execution_count": null,
   "metadata": {},
   "outputs": [],
   "source": [
    "%matplotlib notebook\n",
    "\n",
    "import json\n",
    "import numpy as np\n",
    "import matplotlib.pyplot as plt\n",
    "import re\n",
    "from scipy.interpolate import griddata\n",
    "\n",
    "# Load JSON data\n",
    "with open('./pd-dd-ovr-sweep.json', 'r') as file:\n",
    "    data = json.load(file)\n",
    "\n",
    "# Prepare data\n",
    "pd_re = re.compile(r\"-pd=(\\d*)\")\n",
    "dd_re = re.compile(r\"--l2-stream-dd\\s(\\d*)\")\n",
    "ovr_re = re.compile(r\"--l2-stream-dd-ovr\\s(\\d*)\")\n",
    "pd = np.array([int(pd_re.search(e['args']).group(1)) for e in data])\n",
    "dd = np.array([int(dd_re.search(e['args']).group(1)) for e in data])\n",
    "ovr = np.array([int(ovr_re.search(e['args']).group(1)) for e in data])\n",
    "mean_ms = np.array([e['mean_ms'] for e in data])\n",
    "\n",
    "# Creating a grid to interpolate\n",
    "pd_grid, dd_grid = np.meshgrid(np.linspace(pd.min(), pd.max(), len(np.unique(pd))),\n",
    "                               np.linspace(dd.min(), dd.max(), len(np.unique(dd))))\n",
    "\n",
    "# Interpolating data\n",
    "mean_ms_grid = griddata((pd, dd), mean_ms, (pd_grid, dd_grid), method='cubic')\n",
    "\n",
    "# Plotting\n",
    "fig = plt.figure()\n",
    "ax = fig.add_subplot(111, projection='3d')\n",
    "\n",
    "# Surface plot\n",
    "surf = ax.plot_surface(pd_grid, dd_grid, mean_ms_grid, cmap='viridis')\n",
    "\n",
    "ax.set_xlabel('PD')\n",
    "ax.set_ylabel('DD')\n",
    "ax.set_zlabel('Mean ms')\n",
    "\n",
    "plt.colorbar(surf)\n",
    "plt.show()"
   ]
  }
 ],
 "metadata": {
  "kernelspec": {
   "display_name": "Python 3",
   "language": "python",
   "name": "python3"
  },
  "language_info": {
   "codemirror_mode": {
     "name": "ipython",
     "version": 3
    },
   "file_extension": ".py",
   "mimetype": "text/x-python",
   "name": "python",
   "nbconvert_exporter": "python",
   "pygments_lexer": "ipython3",
   "version": "3.8.5"
  }
 },
 "nbformat": 4,
 "nbformat_minor": 2
}
